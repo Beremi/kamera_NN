{
 "cells": [
  {
   "cell_type": "code",
   "execution_count": 34,
   "metadata": {},
   "outputs": [],
   "source": [
    "import sympy as sp\n",
    "import inspect\n",
    "import re"
   ]
  },
  {
   "cell_type": "code",
   "execution_count": 35,
   "metadata": {},
   "outputs": [],
   "source": [
    "def python_to_matlab(python_code, new_name):\n",
    "    \"\"\"\n",
    "    Converts Python code to equivalent MATLAB code.\n",
    "\n",
    "    Args:\n",
    "        python_code (str): The Python code to be translated.\n",
    "        new_name (str): The new function name for the MATLAB code.\n",
    "\n",
    "    Returns:\n",
    "        str: The translated MATLAB code.\n",
    "    \"\"\"\n",
    "\n",
    "    # Replace mathematical operators\n",
    "    matlab_code = re.sub(r'\\*\\*', r'.^', python_code)  # ** -> .^\n",
    "    matlab_code = re.sub(r'\\*', r'.*', matlab_code)    # * -> .*\n",
    "    matlab_code = re.sub(r'/', r'./', matlab_code)     # / -> ./\n",
    "\n",
    "    # Add semicolons\n",
    "    matlab_code = re.sub(r'(?m)^.*$', r'\\g<0>;', matlab_code)  # Add semicolon at the end of each line\n",
    "\n",
    "    # Replace array syntax\n",
    "    pattern = r\"array\\(\\[(\\[.*?\\])\\]\\)\"\n",
    "\n",
    "    def repl(match):\n",
    "        inner_content = match.group(1).replace('], [', ', ...\\n                  ')\n",
    "        formatted_content = inner_content.replace('[', '').replace(']', '')\n",
    "        return f\"result = [{formatted_content}];\"\n",
    "    matlab_code = re.sub(pattern, repl, matlab_code)\n",
    "\n",
    "    # Detect and replace function definition\n",
    "    def repl_func_def(match):\n",
    "        args = match.group(0).replace('def _lambdifygenerated(', '').replace('):', '')\n",
    "        args_list = args.split(', ')\n",
    "        if len(args_list) <= 6:\n",
    "            return f\"function result = {new_name}(input_data)\\n\" \\\n",
    "                   \"    X = input_data(:, 1);\\n\" \\\n",
    "                   \"    Y = input_data(:, 2);\\n\" \\\n",
    "                   \"    Z = input_data(:, 3);\\n\" \\\n",
    "                   \"    alpha = input_data(:, 4);\\n\" \\\n",
    "                   \"    beta = input_data(:, 5);\\n\" \\\n",
    "                   \"    gama = input_data(:, 6);\"\n",
    "        else:\n",
    "            obs_vars = \"\\n\".join([f\"    f_obs{i} = f_obs({i});\" for i in range(1, len(args_list) - 5)])\n",
    "            return f\"function result = {new_name}(input_data, f_obs)\\n\" \\\n",
    "                   \"    X = input_data(:, 1);\\n\" \\\n",
    "                   \"    Y = input_data(:, 2);\\n\" \\\n",
    "                   \"    Z = input_data(:, 3);\\n\" \\\n",
    "                   \"    alpha = input_data(:, 4);\\n\" \\\n",
    "                   \"    beta = input_data(:, 5);\\n\" \\\n",
    "                   \"    gama = input_data(:, 6);\\n\" \\\n",
    "                   f\"{obs_vars}\"\n",
    "\n",
    "    # Apply function definition replacement\n",
    "    matlab_code = re.sub(r\"def _lambdifygenerated\\([^\\)]+\\):\", repl_func_def, matlab_code, 1)\n",
    "    matlab_code = matlab_code.replace(';;', ';')\n",
    "\n",
    "    # Remove last line if it starts with ;\n",
    "    if matlab_code.endswith(';'):\n",
    "        matlab_code = matlab_code[:-1]\n",
    "\n",
    "    matlab_code = matlab_code.replace('return', 'result =')\n",
    "    matlab_code = matlab_code.replace('result = result', 'result')\n",
    "    \n",
    "    return matlab_code"
   ]
  },
  {
   "cell_type": "markdown",
   "metadata": {},
   "source": [
    "# Kamera operator positions and angles -> 5 point calibration projection into 2D plane\n",
    "\n",
    "- input X, Y, Z in meters\n",
    "- input alpha, beta, gamma in radians\n",
    "- output x, y in milimeters"
   ]
  },
  {
   "cell_type": "code",
   "execution_count": 36,
   "metadata": {},
   "outputs": [],
   "source": [
    "# input parameters\n",
    "\n",
    "# positions of calibration points in 3D\n",
    "M = sp.Matrix(5, 3, (0, 0, 0, 0.05, 0.05, 0, 0.05, -0.05, 0, -0.05, -0.05, 0, -0.05, 0.05, 0))\n",
    "\n",
    "# focal length\n",
    "ff = 0.008\n",
    "\n",
    "# length of the robot arm + length of the end effector\n",
    "L = 309.5 * 1e-3 \n",
    "\n",
    "# Define the vectors v and n\n",
    "v = sp.Matrix([0, 0, -1])\n",
    "n = sp.Matrix([0, 1, 0])\n",
    "\n",
    "\n",
    "##########################################\n",
    "# Camera projection to the plane         #\n",
    "##########################################\n",
    "\n",
    "# Define the symbols\n",
    "alpha, beta, gama, X, Y, Z, S_x, S_y, S_z = sp.symbols(\n",
    "    'alpha beta gama X Y Z S_x S_y S_z', real=True)\n",
    "\n",
    "# Sip and TCP\n",
    "Sip = sp.Matrix([S_x, S_y, S_z])\n",
    "TCP = sp.Matrix([X, Y, Z])\n",
    "\n",
    "# Rotation matrices Rx, Ry, Rz\n",
    "Rx = sp.Matrix([[1, 0, 0],\n",
    "                [0, sp.cos(alpha), -sp.sin(alpha)],\n",
    "                [0, sp.sin(alpha), sp.cos(alpha)]])\n",
    "Ry = sp.Matrix([[sp.cos(beta), 0, sp.sin(beta)],\n",
    "                [0, 1, 0],\n",
    "                [-sp.sin(beta), 0, sp.cos(beta)]])\n",
    "Rz = sp.Matrix([[sp.cos(gama), -sp.sin(gama), 0],\n",
    "                [sp.sin(gama), sp.cos(gama), 0],\n",
    "                [0, 0, 1]])\n",
    "R = sp.simplify(Rx * Ry * Rz)\n",
    "\n",
    "\n",
    "# Vector v and calculations for x and o\n",
    "x = sp.Matrix([X, Y, Z]) - L * R * v\n",
    "o = R * v\n",
    "\n",
    "# Calculate 'a' using dot products\n",
    "a = sp.sqrt(((-R.row(0).dot(v) * Z) / (R.row(2).dot(v)))**2 + \n",
    "            (-(R.row(1).dot(v) * Z) / (R.row(2).dot(v)))**2 + Z * Z)\n",
    "\n",
    "# Calculate Q\n",
    "Q = a * o + TCP\n",
    "\n",
    "# Project Sip onto the line defined by o and Q\n",
    "Sip_proj = Sip + (o.dot(Q) - o.dot(Sip)) * (x - Sip) / (o.dot(x) - o.dot(Sip))\n",
    "\n",
    "# s_2 vector and s_1 as the cross product of o and s_2\n",
    "s_2 = R * n\n",
    "s_1 = o.cross(s_2)\n",
    "\n",
    "# Calculate k_1 and k_2\n",
    "k_1 = (Sip_proj - Q).dot(s_1) / s_1.norm()**2\n",
    "k_2 = (Sip_proj - Q).dot(s_2) / s_2.norm()**2\n",
    "\n",
    "\n",
    "# Calculate image plane coordinates f_1 and f_2\n",
    "f_1 = k_1 * ff / (a + L - ff)\n",
    "f_2 = k_2 * ff / (a + L - ff)\n",
    "\n",
    "\n",
    "##########################################\n",
    "# Transformation for all points in M     #\n",
    "##########################################\n",
    "\n",
    "# Define the matrix to store the results\n",
    "results = sp.Matrix(10, 1, [0] * 10)\n",
    "\n",
    "# Define the loop\n",
    "for i in range(5):\n",
    "    # Substitute the symbols from M for S_x, S_y, S_z in f_1 and f_2\n",
    "    f1_i = f_1.subs({S_x: M[i, 0], S_y: M[i, 1], S_z: M[i, 2]})\n",
    "    f2_i = f_2.subs({S_x: M[i, 0], S_y: M[i, 1], S_z: M[i, 2]})\n",
    "\n",
    "    # Store the results in the matrix\n",
    "    results[2 * i, 0] = f1_i * 1e3\n",
    "    results[2 * i + 1, 0] = f2_i * 1e3"
   ]
  },
  {
   "cell_type": "markdown",
   "metadata": {},
   "source": [
    "## Kamera operator export"
   ]
  },
  {
   "cell_type": "code",
   "execution_count": 37,
   "metadata": {},
   "outputs": [],
   "source": [
    "v = sp.Matrix([X, Y, Z, alpha, beta, gama])\n",
    "kamera_op = sp.lambdify(v, results, modules='numpy', cse=True)\n",
    "\n",
    "with open('kamera.m', 'w') as f:\n",
    "    file_text = python_to_matlab(inspect.getsource(kamera_op), 'kamera')\n",
    "    f.write(file_text)\n",
    "    "
   ]
  },
  {
   "cell_type": "markdown",
   "metadata": {},
   "source": [
    "# F_val operator"
   ]
  },
  {
   "cell_type": "code",
   "execution_count": 38,
   "metadata": {},
   "outputs": [],
   "source": [
    "\n",
    "f_obs1, f_obs2, f_obs3, f_obs4, f_obs5, f_obs6, f_obs7, f_obs8, f_obs9, f_obs10 = sp.symbols('f_obs1:11', real=True)\n",
    "\n",
    "# Define the symbols\n",
    "f_obs = sp.Matrix(10, 1, (f_obs1, f_obs2, f_obs3, f_obs4, f_obs5, f_obs6, f_obs7, f_obs8, f_obs9, f_obs10))\n",
    "diff = results - f_obs\n",
    "F_obs = (diff[0] * diff[0] + diff[1] * diff[1] +\n",
    "         diff[2] * diff[2] + diff[3] * diff[3] +\n",
    "         diff[4] * diff[4] + diff[5] * diff[5] +\n",
    "         diff[6] * diff[6] + diff[7] * diff[7] +\n",
    "         diff[8] * diff[8] + diff[9] * diff[9])\n"
   ]
  },
  {
   "cell_type": "markdown",
   "metadata": {},
   "source": [
    "## F_val operator export"
   ]
  },
  {
   "cell_type": "code",
   "execution_count": 39,
   "metadata": {},
   "outputs": [],
   "source": [
    "v = sp.Matrix([X, Y, Z, alpha, beta, gama, f_obs1, f_obs2, f_obs3,\n",
    "              f_obs4, f_obs5, f_obs6, f_obs7, f_obs8, f_obs9, f_obs10])\n",
    "\n",
    "F_obs_op = sp.lambdify(v, F_obs, modules='numpy', cse=True)\n",
    "\n",
    "with open('F_val.m', 'w') as f:\n",
    "    file_text = python_to_matlab(inspect.getsource(F_obs_op), 'F_val')\n",
    "    f.write(file_text)"
   ]
  },
  {
   "cell_type": "markdown",
   "metadata": {},
   "source": [
    "# Gradient of F_val"
   ]
  },
  {
   "cell_type": "code",
   "execution_count": 40,
   "metadata": {},
   "outputs": [],
   "source": [
    "args = sp.Matrix([X, Y, Z, alpha, beta, gama])\n",
    "grad_F = sp.derive_by_array(F_obs, args)"
   ]
  },
  {
   "cell_type": "markdown",
   "metadata": {},
   "source": [
    "## Gradient of F_val export"
   ]
  },
  {
   "cell_type": "code",
   "execution_count": 41,
   "metadata": {},
   "outputs": [],
   "source": [
    "v = sp.Matrix([X, Y, Z, alpha, beta, gama, f_obs1, f_obs2, f_obs3,\n",
    "              f_obs4, f_obs5, f_obs6, f_obs7, f_obs8, f_obs9, f_obs10])\n",
    "grad_F_op = sp.lambdify(v, grad_F, modules='numpy', cse=True)\n",
    "\n",
    "with open('F_grad.m', 'w') as f:\n",
    "    file_text = python_to_matlab(inspect.getsource(grad_F_op), 'F_grad')\n",
    "    f.write(file_text)"
   ]
  },
  {
   "cell_type": "markdown",
   "metadata": {},
   "source": [
    "# Hessians of F_val"
   ]
  },
  {
   "cell_type": "code",
   "execution_count": 42,
   "metadata": {},
   "outputs": [],
   "source": [
    "args = sp.Matrix([X, Y, Z, alpha, beta, gama])\n",
    "hess_F = sp.hessian(F_obs, args)"
   ]
  },
  {
   "cell_type": "markdown",
   "metadata": {},
   "source": [
    "## Hessians of F_val export"
   ]
  },
  {
   "cell_type": "code",
   "execution_count": 43,
   "metadata": {},
   "outputs": [],
   "source": [
    "v = sp.Matrix([X, Y, Z, alpha, beta, gama, f_obs1, f_obs2, f_obs3,\n",
    "              f_obs4, f_obs5, f_obs6, f_obs7, f_obs8, f_obs9, f_obs10])\n",
    "hess_F_op = sp.lambdify(v, hess_F, modules='numpy', cse=True)\n",
    "\n",
    "with open('F_hess.m', 'w') as f:\n",
    "    file_text = python_to_matlab(inspect.getsource(hess_F_op), 'F_hess')\n",
    "    f.write(file_text)"
   ]
  }
 ],
 "metadata": {
  "kernelspec": {
   "display_name": "Python 3",
   "language": "python",
   "name": "python3"
  },
  "language_info": {
   "codemirror_mode": {
    "name": "ipython",
    "version": 3
   },
   "file_extension": ".py",
   "mimetype": "text/x-python",
   "name": "python",
   "nbconvert_exporter": "python",
   "pygments_lexer": "ipython3",
   "version": "3.11.6"
  }
 },
 "nbformat": 4,
 "nbformat_minor": 2
}
